{
  "nbformat": 4,
  "nbformat_minor": 0,
  "metadata": {
    "colab": {
      "name": "DOAN2_RNN_CTC_Model.ipynb",
      "provenance": [],
      "collapsed_sections": []
    },
    "kernelspec": {
      "name": "python3",
      "display_name": "Python 3"
    },
    "language_info": {
      "name": "python"
    },
    "accelerator": "GPU",
    "widgets": {
      "application/vnd.jupyter.widget-state+json": {
        "d25ec62bb210475183247b2927f14edf": {
          "model_module": "@jupyter-widgets/controls",
          "model_name": "HBoxModel",
          "model_module_version": "1.5.0",
          "state": {
            "_dom_classes": [],
            "_model_module": "@jupyter-widgets/controls",
            "_model_module_version": "1.5.0",
            "_model_name": "HBoxModel",
            "_view_count": null,
            "_view_module": "@jupyter-widgets/controls",
            "_view_module_version": "1.5.0",
            "_view_name": "HBoxView",
            "box_style": "",
            "children": [
              "IPY_MODEL_e5f30d6b52864f38b66558a9d4787942",
              "IPY_MODEL_18d737842fbb45838a45bfc6557efe24",
              "IPY_MODEL_d091a109271b4d998388eddfd41514d4"
            ],
            "layout": "IPY_MODEL_3e06079e8aca46628402526f836ea226"
          }
        },
        "e5f30d6b52864f38b66558a9d4787942": {
          "model_module": "@jupyter-widgets/controls",
          "model_name": "HTMLModel",
          "model_module_version": "1.5.0",
          "state": {
            "_dom_classes": [],
            "_model_module": "@jupyter-widgets/controls",
            "_model_module_version": "1.5.0",
            "_model_name": "HTMLModel",
            "_view_count": null,
            "_view_module": "@jupyter-widgets/controls",
            "_view_module_version": "1.5.0",
            "_view_name": "HTMLView",
            "description": "",
            "description_tooltip": null,
            "layout": "IPY_MODEL_ecb56812483341e79b83af7c76d3b5b0",
            "placeholder": "​",
            "style": "IPY_MODEL_f11eb2ca733841cfbac27821c0c7ef8b",
            "value": "Loading data...: 100%"
          }
        },
        "18d737842fbb45838a45bfc6557efe24": {
          "model_module": "@jupyter-widgets/controls",
          "model_name": "FloatProgressModel",
          "model_module_version": "1.5.0",
          "state": {
            "_dom_classes": [],
            "_model_module": "@jupyter-widgets/controls",
            "_model_module_version": "1.5.0",
            "_model_name": "FloatProgressModel",
            "_view_count": null,
            "_view_module": "@jupyter-widgets/controls",
            "_view_module_version": "1.5.0",
            "_view_name": "ProgressView",
            "bar_style": "success",
            "description": "",
            "description_tooltip": null,
            "layout": "IPY_MODEL_091fe84584464419987fd79d1ee52093",
            "max": 7765,
            "min": 0,
            "orientation": "horizontal",
            "style": "IPY_MODEL_c6d98d0c5fcb4a87a5e8796c3279afc2",
            "value": 7765
          }
        },
        "d091a109271b4d998388eddfd41514d4": {
          "model_module": "@jupyter-widgets/controls",
          "model_name": "HTMLModel",
          "model_module_version": "1.5.0",
          "state": {
            "_dom_classes": [],
            "_model_module": "@jupyter-widgets/controls",
            "_model_module_version": "1.5.0",
            "_model_name": "HTMLModel",
            "_view_count": null,
            "_view_module": "@jupyter-widgets/controls",
            "_view_module_version": "1.5.0",
            "_view_name": "HTMLView",
            "description": "",
            "description_tooltip": null,
            "layout": "IPY_MODEL_b7c0abca663a4010b77770f8ca5b3bc3",
            "placeholder": "​",
            "style": "IPY_MODEL_87be4e83e85241cc85cefc8cb38e0983",
            "value": " 7765/7765 [00:25&lt;00:00, 308.19it/s]"
          }
        },
        "3e06079e8aca46628402526f836ea226": {
          "model_module": "@jupyter-widgets/base",
          "model_name": "LayoutModel",
          "model_module_version": "1.2.0",
          "state": {
            "_model_module": "@jupyter-widgets/base",
            "_model_module_version": "1.2.0",
            "_model_name": "LayoutModel",
            "_view_count": null,
            "_view_module": "@jupyter-widgets/base",
            "_view_module_version": "1.2.0",
            "_view_name": "LayoutView",
            "align_content": null,
            "align_items": null,
            "align_self": null,
            "border": null,
            "bottom": null,
            "display": null,
            "flex": null,
            "flex_flow": null,
            "grid_area": null,
            "grid_auto_columns": null,
            "grid_auto_flow": null,
            "grid_auto_rows": null,
            "grid_column": null,
            "grid_gap": null,
            "grid_row": null,
            "grid_template_areas": null,
            "grid_template_columns": null,
            "grid_template_rows": null,
            "height": null,
            "justify_content": null,
            "justify_items": null,
            "left": null,
            "margin": null,
            "max_height": null,
            "max_width": null,
            "min_height": null,
            "min_width": null,
            "object_fit": null,
            "object_position": null,
            "order": null,
            "overflow": null,
            "overflow_x": null,
            "overflow_y": null,
            "padding": null,
            "right": null,
            "top": null,
            "visibility": null,
            "width": null
          }
        },
        "ecb56812483341e79b83af7c76d3b5b0": {
          "model_module": "@jupyter-widgets/base",
          "model_name": "LayoutModel",
          "model_module_version": "1.2.0",
          "state": {
            "_model_module": "@jupyter-widgets/base",
            "_model_module_version": "1.2.0",
            "_model_name": "LayoutModel",
            "_view_count": null,
            "_view_module": "@jupyter-widgets/base",
            "_view_module_version": "1.2.0",
            "_view_name": "LayoutView",
            "align_content": null,
            "align_items": null,
            "align_self": null,
            "border": null,
            "bottom": null,
            "display": null,
            "flex": null,
            "flex_flow": null,
            "grid_area": null,
            "grid_auto_columns": null,
            "grid_auto_flow": null,
            "grid_auto_rows": null,
            "grid_column": null,
            "grid_gap": null,
            "grid_row": null,
            "grid_template_areas": null,
            "grid_template_columns": null,
            "grid_template_rows": null,
            "height": null,
            "justify_content": null,
            "justify_items": null,
            "left": null,
            "margin": null,
            "max_height": null,
            "max_width": null,
            "min_height": null,
            "min_width": null,
            "object_fit": null,
            "object_position": null,
            "order": null,
            "overflow": null,
            "overflow_x": null,
            "overflow_y": null,
            "padding": null,
            "right": null,
            "top": null,
            "visibility": null,
            "width": null
          }
        },
        "f11eb2ca733841cfbac27821c0c7ef8b": {
          "model_module": "@jupyter-widgets/controls",
          "model_name": "DescriptionStyleModel",
          "model_module_version": "1.5.0",
          "state": {
            "_model_module": "@jupyter-widgets/controls",
            "_model_module_version": "1.5.0",
            "_model_name": "DescriptionStyleModel",
            "_view_count": null,
            "_view_module": "@jupyter-widgets/base",
            "_view_module_version": "1.2.0",
            "_view_name": "StyleView",
            "description_width": ""
          }
        },
        "091fe84584464419987fd79d1ee52093": {
          "model_module": "@jupyter-widgets/base",
          "model_name": "LayoutModel",
          "model_module_version": "1.2.0",
          "state": {
            "_model_module": "@jupyter-widgets/base",
            "_model_module_version": "1.2.0",
            "_model_name": "LayoutModel",
            "_view_count": null,
            "_view_module": "@jupyter-widgets/base",
            "_view_module_version": "1.2.0",
            "_view_name": "LayoutView",
            "align_content": null,
            "align_items": null,
            "align_self": null,
            "border": null,
            "bottom": null,
            "display": null,
            "flex": null,
            "flex_flow": null,
            "grid_area": null,
            "grid_auto_columns": null,
            "grid_auto_flow": null,
            "grid_auto_rows": null,
            "grid_column": null,
            "grid_gap": null,
            "grid_row": null,
            "grid_template_areas": null,
            "grid_template_columns": null,
            "grid_template_rows": null,
            "height": null,
            "justify_content": null,
            "justify_items": null,
            "left": null,
            "margin": null,
            "max_height": null,
            "max_width": null,
            "min_height": null,
            "min_width": null,
            "object_fit": null,
            "object_position": null,
            "order": null,
            "overflow": null,
            "overflow_x": null,
            "overflow_y": null,
            "padding": null,
            "right": null,
            "top": null,
            "visibility": null,
            "width": null
          }
        },
        "c6d98d0c5fcb4a87a5e8796c3279afc2": {
          "model_module": "@jupyter-widgets/controls",
          "model_name": "ProgressStyleModel",
          "model_module_version": "1.5.0",
          "state": {
            "_model_module": "@jupyter-widgets/controls",
            "_model_module_version": "1.5.0",
            "_model_name": "ProgressStyleModel",
            "_view_count": null,
            "_view_module": "@jupyter-widgets/base",
            "_view_module_version": "1.2.0",
            "_view_name": "StyleView",
            "bar_color": null,
            "description_width": ""
          }
        },
        "b7c0abca663a4010b77770f8ca5b3bc3": {
          "model_module": "@jupyter-widgets/base",
          "model_name": "LayoutModel",
          "model_module_version": "1.2.0",
          "state": {
            "_model_module": "@jupyter-widgets/base",
            "_model_module_version": "1.2.0",
            "_model_name": "LayoutModel",
            "_view_count": null,
            "_view_module": "@jupyter-widgets/base",
            "_view_module_version": "1.2.0",
            "_view_name": "LayoutView",
            "align_content": null,
            "align_items": null,
            "align_self": null,
            "border": null,
            "bottom": null,
            "display": null,
            "flex": null,
            "flex_flow": null,
            "grid_area": null,
            "grid_auto_columns": null,
            "grid_auto_flow": null,
            "grid_auto_rows": null,
            "grid_column": null,
            "grid_gap": null,
            "grid_row": null,
            "grid_template_areas": null,
            "grid_template_columns": null,
            "grid_template_rows": null,
            "height": null,
            "justify_content": null,
            "justify_items": null,
            "left": null,
            "margin": null,
            "max_height": null,
            "max_width": null,
            "min_height": null,
            "min_width": null,
            "object_fit": null,
            "object_position": null,
            "order": null,
            "overflow": null,
            "overflow_x": null,
            "overflow_y": null,
            "padding": null,
            "right": null,
            "top": null,
            "visibility": null,
            "width": null
          }
        },
        "87be4e83e85241cc85cefc8cb38e0983": {
          "model_module": "@jupyter-widgets/controls",
          "model_name": "DescriptionStyleModel",
          "model_module_version": "1.5.0",
          "state": {
            "_model_module": "@jupyter-widgets/controls",
            "_model_module_version": "1.5.0",
            "_model_name": "DescriptionStyleModel",
            "_view_count": null,
            "_view_module": "@jupyter-widgets/base",
            "_view_module_version": "1.2.0",
            "_view_name": "StyleView",
            "description_width": ""
          }
        }
      }
    }
  },
  "cells": [
    {
      "cell_type": "code",
      "execution_count": null,
      "metadata": {
        "id": "DQEtgle-ovi7",
        "colab": {
          "base_uri": "https://localhost:8080/"
        },
        "outputId": "56816a4b-2c2c-41bf-8efe-1f3748fa9838"
      },
      "outputs": [
        {
          "output_type": "stream",
          "name": "stderr",
          "text": [
            "/usr/local/lib/python3.7/dist-packages/ipykernel_launcher.py:3: TqdmExperimentalWarning: Using `tqdm.autonotebook.tqdm` in notebook mode. Use `tqdm.tqdm` instead to force console mode (e.g. in jupyter console)\n",
            "  This is separate from the ipykernel package so we can avoid doing imports until\n"
          ]
        }
      ],
      "source": [
        "import sklearn\n",
        "import os\n",
        "from tqdm.autonotebook import tqdm\n",
        "import numpy as np\n",
        "from PIL import Image\n",
        "import pandas as pd\n",
        "from google.colab.patches import cv2_imshow\n",
        "import cv2\n",
        "import matplotlib.pyplot as plt\n",
        "import tensorflow as tf\n",
        "from tensorflow import keras\n",
        "from tensorflow.keras import layers\n",
        "from keras.models import Sequential, load_model, Model \n",
        "from keras.layers import Conv2D, MaxPool2D, Add, Dense, Reshape, Flatten, Dropout, BatchNormalization, ReLU, Activation, Concatenate, Flatten, Input, Concatenate, Activation, LSTM, Bidirectional, Lambda\n",
        "from keras import Input\n",
        "from keras import backend\n",
        "from sklearn.model_selection import train_test_split\n",
        "from keras.utils import np_utils"
      ]
    },
    {
      "cell_type": "code",
      "source": [
        "from google.colab import drive\n",
        "drive.mount('/content/gdrive')"
      ],
      "metadata": {
        "colab": {
          "base_uri": "https://localhost:8080/"
        },
        "id": "Hkqr2v0xo1gw",
        "outputId": "9ad774c9-05d3-41a3-977c-5e083caf94ed"
      },
      "execution_count": null,
      "outputs": [
        {
          "output_type": "stream",
          "name": "stdout",
          "text": [
            "Mounted at /content/gdrive\n"
          ]
        }
      ]
    },
    {
      "cell_type": "code",
      "source": [
        "# check GPU\n",
        "!nvidia-smi"
      ],
      "metadata": {
        "id": "oaE1z81FxMOS",
        "colab": {
          "base_uri": "https://localhost:8080/"
        },
        "outputId": "daa2bcce-fbc5-4a58-af3e-40193fd24bc7"
      },
      "execution_count": null,
      "outputs": [
        {
          "output_type": "stream",
          "name": "stdout",
          "text": [
            "Tue Mar 22 15:12:52 2022       \n",
            "+-----------------------------------------------------------------------------+\n",
            "| NVIDIA-SMI 460.32.03    Driver Version: 460.32.03    CUDA Version: 11.2     |\n",
            "|-------------------------------+----------------------+----------------------+\n",
            "| GPU  Name        Persistence-M| Bus-Id        Disp.A | Volatile Uncorr. ECC |\n",
            "| Fan  Temp  Perf  Pwr:Usage/Cap|         Memory-Usage | GPU-Util  Compute M. |\n",
            "|                               |                      |               MIG M. |\n",
            "|===============================+======================+======================|\n",
            "|   0  Tesla K80           Off  | 00000000:00:04.0 Off |                    0 |\n",
            "| N/A   69C    P8    32W / 149W |      0MiB / 11441MiB |      0%      Default |\n",
            "|                               |                      |                  N/A |\n",
            "+-------------------------------+----------------------+----------------------+\n",
            "                                                                               \n",
            "+-----------------------------------------------------------------------------+\n",
            "| Processes:                                                                  |\n",
            "|  GPU   GI   CI        PID   Type   Process name                  GPU Memory |\n",
            "|        ID   ID                                                   Usage      |\n",
            "|=============================================================================|\n",
            "|  No running processes found                                                 |\n",
            "+-----------------------------------------------------------------------------+\n"
          ]
        }
      ]
    },
    {
      "cell_type": "code",
      "source": [
        "# Load dataset\n",
        "# 7765 images  \n",
        "data = []\n",
        "for i in tqdm(range(1, 7766), desc=\"Loading data...\"):\n",
        "  path = '/content/gdrive/MyDrive/DatasetDoAn2/Handwritting Digit/' + str(i) + '.jpg'\n",
        "  image = cv2.imread(path, cv2.IMREAD_GRAYSCALE)\n",
        "  image = cv2.resize(image, (100, 40))  # width height\n",
        "  data.append(image)\n",
        "print(\"Completed!\")\n",
        "data = np.array(data, dtype=\"float32\")\n",
        "data = data / 255.0"
      ],
      "metadata": {
        "id": "ZPAGwSQ5xwqU",
        "colab": {
          "base_uri": "https://localhost:8080/",
          "height": 66,
          "referenced_widgets": [
            "d25ec62bb210475183247b2927f14edf",
            "e5f30d6b52864f38b66558a9d4787942",
            "18d737842fbb45838a45bfc6557efe24",
            "d091a109271b4d998388eddfd41514d4",
            "3e06079e8aca46628402526f836ea226",
            "ecb56812483341e79b83af7c76d3b5b0",
            "f11eb2ca733841cfbac27821c0c7ef8b",
            "091fe84584464419987fd79d1ee52093",
            "c6d98d0c5fcb4a87a5e8796c3279afc2",
            "b7c0abca663a4010b77770f8ca5b3bc3",
            "87be4e83e85241cc85cefc8cb38e0983"
          ]
        },
        "outputId": "bf6db0e3-3264-4935-d799-9ce278dc5492"
      },
      "execution_count": null,
      "outputs": [
        {
          "output_type": "display_data",
          "data": {
            "text/plain": [
              "Loading data...:   0%|          | 0/7765 [00:00<?, ?it/s]"
            ],
            "application/vnd.jupyter.widget-view+json": {
              "version_major": 2,
              "version_minor": 0,
              "model_id": "d25ec62bb210475183247b2927f14edf"
            }
          },
          "metadata": {}
        },
        {
          "output_type": "stream",
          "name": "stdout",
          "text": [
            "Completed!\n"
          ]
        }
      ]
    },
    {
      "cell_type": "code",
      "source": [
        "# Load labels\n",
        "labels = []\n",
        "df = pd.read_excel('/content/gdrive/MyDrive/DatasetDoAn2/Annotation.xlsx', dtype=np.str)\n",
        "for i in df.index:\n",
        "    #labels.append(str(df['Label'][i]))\n",
        "    str1 = str(df['Label'][i])\n",
        "    if str1 == '0':\n",
        "      str2 = 'nnnnn'\n",
        "    if len(str1) == 3:\n",
        "      str2 = 'n' + str1 + 'n'\n",
        "    if len(str1) == 4:\n",
        "      str2 = str1 + 'n'\n",
        "    labels.append(str2)\n",
        "labels = np.array(labels)\n",
        "labels"
      ],
      "metadata": {
        "id": "P2fGid9Abz36",
        "colab": {
          "base_uri": "https://localhost:8080/"
        },
        "outputId": "59040388-8c77-4f51-b94a-a95f5f64ed1b"
      },
      "execution_count": null,
      "outputs": [
        {
          "output_type": "stream",
          "name": "stderr",
          "text": [
            "/usr/local/lib/python3.7/dist-packages/ipykernel_launcher.py:3: DeprecationWarning: `np.str` is a deprecated alias for the builtin `str`. To silence this warning, use `str` by itself. Doing this will not modify any behavior and is safe. If you specifically wanted the numpy scalar type, use `np.str_` here.\n",
            "Deprecated in NumPy 1.20; for more details and guidance: https://numpy.org/devdocs/release/1.20.0-notes.html#deprecations\n",
            "  This is separate from the ipykernel package so we can avoid doing imports until\n"
          ]
        },
        {
          "output_type": "execute_result",
          "data": {
            "text/plain": [
              "array(['nnnnn', 'n8.0n', 'n1.5n', ..., 'n6.0n', 'nnnnn', 'n7.0n'],\n",
              "      dtype='<U5')"
            ]
          },
          "metadata": {},
          "execution_count": 12
        }
      ]
    },
    {
      "cell_type": "code",
      "source": [
        "characters = u\"0123456789.n\"\n",
        "max_length = max([len(label) for label in labels])\n",
        "print('Max length of labels: ', max_length)\n",
        "print('Characters: ', characters)"
      ],
      "metadata": {
        "colab": {
          "base_uri": "https://localhost:8080/"
        },
        "id": "x56JvqLfBM8A",
        "outputId": "82809e81-ab4d-4f79-c52d-56874da7082f"
      },
      "execution_count": null,
      "outputs": [
        {
          "output_type": "stream",
          "name": "stdout",
          "text": [
            "Max length of labels:  5\n",
            "Characters:  0123456789.n\n"
          ]
        }
      ]
    },
    {
      "cell_type": "code",
      "source": [
        "# Characters to numbers\n",
        "def label_to_num(label):\n",
        "  num = []\n",
        "  for character in label:\n",
        "    num.append(characters.find(character))  \n",
        "  return np.array(num)\n",
        "\n",
        "# Numbers to characters  \n",
        "def num_to_label(num):\n",
        "  label = \"\"\n",
        "  for ch in num:\n",
        "    if ch == -1:  \n",
        "      break\n",
        "    else:\n",
        "      label += characters[ch]\n",
        "  return label"
      ],
      "metadata": {
        "id": "LmF5q9CkWrYy"
      },
      "execution_count": null,
      "outputs": []
    },
    {
      "cell_type": "code",
      "source": [
        "# Encode all labels to numbers\n",
        "tmp_labels = []\n",
        "for i in range (0, len(labels)):\n",
        "  label = label_to_num(labels[i])\n",
        "  tmp_labels.append(label)\n",
        "labels = tmp_labels\n",
        "labels = np.array(labels)"
      ],
      "metadata": {
        "id": "zGYZ4oU3dYlV"
      },
      "execution_count": null,
      "outputs": []
    },
    {
      "cell_type": "code",
      "source": [
        "# Split dataset\n",
        "X_train_val, X_test, Y_train_val, Y_test = train_test_split(data, labels, test_size=0.05)\n",
        "X_train, X_val, Y_train, Y_val = train_test_split(X_train_val, Y_train_val, test_size=0.2)"
      ],
      "metadata": {
        "id": "A4eUMF6_ThO_"
      },
      "execution_count": null,
      "outputs": []
    },
    {
      "cell_type": "code",
      "source": [
        "input_img = Input(shape=(40, 100 , 1), name=\"input\")\n",
        "\n",
        "x = Conv2D(filters=32, kernel_size=(3,3), activation=\"linear\", padding=\"same\")(input_img)\n",
        "x = BatchNormalization()(x)\n",
        "x = Activation('relu')(x)\n",
        "x = MaxPool2D(pool_size=(2,2), strides=(2,2))(x)\n",
        "\n",
        "# Residual block 1\n",
        "x1 = Conv2D(filters=32, kernel_size=(3,3), strides=1, activation=\"linear\", padding=\"same\")(x)\n",
        "x1 = BatchNormalization()(x1)\n",
        "x1 = Activation('relu')(x1)\n",
        "x1 = Conv2D(filters=32, kernel_size=(3,3), strides=1, activation=\"linear\", padding=\"same\")(x1)\n",
        "x1 = BatchNormalization()(x1)\n",
        "x1 = Activation('relu')(x1)\n",
        "x2 = Conv2D(filters=32, kernel_size=(3,3), strides=1, activation=\"linear\", padding=\"same\")(x)\n",
        "x2 = BatchNormalization()(x2)\n",
        "x2 = Activation('relu')(x2)\n",
        "x = Add()([x1, x2])\n",
        "\n",
        "# Residual block 2\n",
        "x1 = Conv2D(filters=64, kernel_size=(3,3), strides=1, activation=\"linear\", padding=\"same\")(x)\n",
        "x1 = BatchNormalization()(x1)\n",
        "x1 = Activation('relu')(x1)\n",
        "x1 = Conv2D(filters=64, kernel_size=(3,3), strides=1, activation=\"linear\", padding=\"same\")(x1)\n",
        "x1 = BatchNormalization()(x1)\n",
        "x1 = Activation('relu')(x1)\n",
        "x2 = Conv2D(filters=64, kernel_size=(3,3), strides=1, activation=\"linear\", padding=\"same\")(x)\n",
        "x2 = BatchNormalization()(x2)\n",
        "x2 = Activation('relu')(x2)\n",
        "x = Add()([x1, x2])\n",
        "\n",
        "# Residual block 3\n",
        "x1 = Conv2D(filters=64, kernel_size=(3,3), strides=1, activation=\"linear\", padding=\"same\")(x)\n",
        "x1 = BatchNormalization()(x1)\n",
        "x1 = Activation('relu')(x1)\n",
        "x1 = Conv2D(filters=64, kernel_size=(3,3), strides=1, activation=\"linear\", padding=\"same\")(x1)\n",
        "x1 = BatchNormalization()(x1)\n",
        "x1 = Activation('relu')(x1)\n",
        "x2 = Conv2D(filters=64, kernel_size=(3,3), strides=1, activation=\"linear\", padding=\"same\")(x)\n",
        "x2 = BatchNormalization()(x2)\n",
        "x2 = Activation('relu')(x2)\n",
        "x = Add()([x1, x2])\n",
        "\n",
        "# Residual block 4\n",
        "x1 = Conv2D(filters=128, kernel_size=(3,3), strides=1, activation=\"linear\", padding=\"same\")(x)\n",
        "x1 = BatchNormalization()(x1)\n",
        "x1 = Activation('relu')(x1)\n",
        "x1 = Conv2D(filters=128, kernel_size=(3,3), strides=1, activation=\"linear\", padding=\"same\")(x1)\n",
        "x1 = BatchNormalization()(x1)\n",
        "x1 = Activation('relu')(x1)\n",
        "x2 = Conv2D(filters=128, kernel_size=(3,3), strides=1, activation=\"linear\", padding=\"same\")(x)\n",
        "x2 = BatchNormalization()(x2)\n",
        "x2 = Activation('relu')(x2)\n",
        "x = Add()([x1, x2])\n",
        "#Reshape and fed to RNN \n",
        "new_shape = (x.shape[1], x.shape[2] * 128)\n",
        "x = Reshape(target_shape=new_shape, name=\"reshape\")(x)\n",
        "x = Dense(64, activation='relu', kernel_initializer='he_normal')(x)\n",
        "x = Bidirectional(LSTM(256, return_sequences=True))(x)\n",
        "x = Bidirectional(LSTM(256, return_sequences=True))(x)\n",
        "y_pred = Dense(units=len(characters) + 1, activation=\"softmax\")(x)\n",
        "\n",
        "model = Model(inputs=input_img, outputs=y_pred)\n",
        "model.summary()"
      ],
      "metadata": {
        "id": "t4VAYnC-OlLf",
        "colab": {
          "base_uri": "https://localhost:8080/"
        },
        "outputId": "bf2c2537-f76b-4416-a676-9ed342880fb3"
      },
      "execution_count": null,
      "outputs": [
        {
          "output_type": "stream",
          "name": "stdout",
          "text": [
            "Model: \"model\"\n",
            "__________________________________________________________________________________________________\n",
            " Layer (type)                   Output Shape         Param #     Connected to                     \n",
            "==================================================================================================\n",
            " input (InputLayer)             [(None, 40, 100, 1)  0           []                               \n",
            "                                ]                                                                 \n",
            "                                                                                                  \n",
            " conv2d (Conv2D)                (None, 40, 100, 32)  320         ['input[0][0]']                  \n",
            "                                                                                                  \n",
            " batch_normalization (BatchNorm  (None, 40, 100, 32)  128        ['conv2d[0][0]']                 \n",
            " alization)                                                                                       \n",
            "                                                                                                  \n",
            " activation (Activation)        (None, 40, 100, 32)  0           ['batch_normalization[0][0]']    \n",
            "                                                                                                  \n",
            " max_pooling2d (MaxPooling2D)   (None, 20, 50, 32)   0           ['activation[0][0]']             \n",
            "                                                                                                  \n",
            " conv2d_1 (Conv2D)              (None, 20, 50, 32)   9248        ['max_pooling2d[0][0]']          \n",
            "                                                                                                  \n",
            " batch_normalization_1 (BatchNo  (None, 20, 50, 32)  128         ['conv2d_1[0][0]']               \n",
            " rmalization)                                                                                     \n",
            "                                                                                                  \n",
            " activation_1 (Activation)      (None, 20, 50, 32)   0           ['batch_normalization_1[0][0]']  \n",
            "                                                                                                  \n",
            " conv2d_2 (Conv2D)              (None, 20, 50, 32)   9248        ['activation_1[0][0]']           \n",
            "                                                                                                  \n",
            " conv2d_3 (Conv2D)              (None, 20, 50, 32)   9248        ['max_pooling2d[0][0]']          \n",
            "                                                                                                  \n",
            " batch_normalization_2 (BatchNo  (None, 20, 50, 32)  128         ['conv2d_2[0][0]']               \n",
            " rmalization)                                                                                     \n",
            "                                                                                                  \n",
            " batch_normalization_3 (BatchNo  (None, 20, 50, 32)  128         ['conv2d_3[0][0]']               \n",
            " rmalization)                                                                                     \n",
            "                                                                                                  \n",
            " activation_2 (Activation)      (None, 20, 50, 32)   0           ['batch_normalization_2[0][0]']  \n",
            "                                                                                                  \n",
            " activation_3 (Activation)      (None, 20, 50, 32)   0           ['batch_normalization_3[0][0]']  \n",
            "                                                                                                  \n",
            " add (Add)                      (None, 20, 50, 32)   0           ['activation_2[0][0]',           \n",
            "                                                                  'activation_3[0][0]']           \n",
            "                                                                                                  \n",
            " conv2d_4 (Conv2D)              (None, 20, 50, 64)   18496       ['add[0][0]']                    \n",
            "                                                                                                  \n",
            " batch_normalization_4 (BatchNo  (None, 20, 50, 64)  256         ['conv2d_4[0][0]']               \n",
            " rmalization)                                                                                     \n",
            "                                                                                                  \n",
            " activation_4 (Activation)      (None, 20, 50, 64)   0           ['batch_normalization_4[0][0]']  \n",
            "                                                                                                  \n",
            " conv2d_5 (Conv2D)              (None, 20, 50, 64)   36928       ['activation_4[0][0]']           \n",
            "                                                                                                  \n",
            " conv2d_6 (Conv2D)              (None, 20, 50, 64)   18496       ['add[0][0]']                    \n",
            "                                                                                                  \n",
            " batch_normalization_5 (BatchNo  (None, 20, 50, 64)  256         ['conv2d_5[0][0]']               \n",
            " rmalization)                                                                                     \n",
            "                                                                                                  \n",
            " batch_normalization_6 (BatchNo  (None, 20, 50, 64)  256         ['conv2d_6[0][0]']               \n",
            " rmalization)                                                                                     \n",
            "                                                                                                  \n",
            " activation_5 (Activation)      (None, 20, 50, 64)   0           ['batch_normalization_5[0][0]']  \n",
            "                                                                                                  \n",
            " activation_6 (Activation)      (None, 20, 50, 64)   0           ['batch_normalization_6[0][0]']  \n",
            "                                                                                                  \n",
            " add_1 (Add)                    (None, 20, 50, 64)   0           ['activation_5[0][0]',           \n",
            "                                                                  'activation_6[0][0]']           \n",
            "                                                                                                  \n",
            " conv2d_7 (Conv2D)              (None, 20, 50, 64)   36928       ['add_1[0][0]']                  \n",
            "                                                                                                  \n",
            " batch_normalization_7 (BatchNo  (None, 20, 50, 64)  256         ['conv2d_7[0][0]']               \n",
            " rmalization)                                                                                     \n",
            "                                                                                                  \n",
            " activation_7 (Activation)      (None, 20, 50, 64)   0           ['batch_normalization_7[0][0]']  \n",
            "                                                                                                  \n",
            " conv2d_8 (Conv2D)              (None, 20, 50, 64)   36928       ['activation_7[0][0]']           \n",
            "                                                                                                  \n",
            " conv2d_9 (Conv2D)              (None, 20, 50, 64)   36928       ['add_1[0][0]']                  \n",
            "                                                                                                  \n",
            " batch_normalization_8 (BatchNo  (None, 20, 50, 64)  256         ['conv2d_8[0][0]']               \n",
            " rmalization)                                                                                     \n",
            "                                                                                                  \n",
            " batch_normalization_9 (BatchNo  (None, 20, 50, 64)  256         ['conv2d_9[0][0]']               \n",
            " rmalization)                                                                                     \n",
            "                                                                                                  \n",
            " activation_8 (Activation)      (None, 20, 50, 64)   0           ['batch_normalization_8[0][0]']  \n",
            "                                                                                                  \n",
            " activation_9 (Activation)      (None, 20, 50, 64)   0           ['batch_normalization_9[0][0]']  \n",
            "                                                                                                  \n",
            " add_2 (Add)                    (None, 20, 50, 64)   0           ['activation_8[0][0]',           \n",
            "                                                                  'activation_9[0][0]']           \n",
            "                                                                                                  \n",
            " conv2d_10 (Conv2D)             (None, 20, 50, 128)  73856       ['add_2[0][0]']                  \n",
            "                                                                                                  \n",
            " batch_normalization_10 (BatchN  (None, 20, 50, 128)  512        ['conv2d_10[0][0]']              \n",
            " ormalization)                                                                                    \n",
            "                                                                                                  \n",
            " activation_10 (Activation)     (None, 20, 50, 128)  0           ['batch_normalization_10[0][0]'] \n",
            "                                                                                                  \n",
            " conv2d_11 (Conv2D)             (None, 20, 50, 128)  147584      ['activation_10[0][0]']          \n",
            "                                                                                                  \n",
            " conv2d_12 (Conv2D)             (None, 20, 50, 128)  73856       ['add_2[0][0]']                  \n",
            "                                                                                                  \n",
            " batch_normalization_11 (BatchN  (None, 20, 50, 128)  512        ['conv2d_11[0][0]']              \n",
            " ormalization)                                                                                    \n",
            "                                                                                                  \n",
            " batch_normalization_12 (BatchN  (None, 20, 50, 128)  512        ['conv2d_12[0][0]']              \n",
            " ormalization)                                                                                    \n",
            "                                                                                                  \n",
            " activation_11 (Activation)     (None, 20, 50, 128)  0           ['batch_normalization_11[0][0]'] \n",
            "                                                                                                  \n",
            " activation_12 (Activation)     (None, 20, 50, 128)  0           ['batch_normalization_12[0][0]'] \n",
            "                                                                                                  \n",
            " add_3 (Add)                    (None, 20, 50, 128)  0           ['activation_11[0][0]',          \n",
            "                                                                  'activation_12[0][0]']          \n",
            "                                                                                                  \n",
            " reshape (Reshape)              (None, 20, 6400)     0           ['add_3[0][0]']                  \n",
            "                                                                                                  \n",
            " dense (Dense)                  (None, 20, 64)       409664      ['reshape[0][0]']                \n",
            "                                                                                                  \n",
            " bidirectional (Bidirectional)  (None, 20, 512)      657408      ['dense[0][0]']                  \n",
            "                                                                                                  \n",
            " bidirectional_1 (Bidirectional  (None, 20, 512)     1574912     ['bidirectional[0][0]']          \n",
            " )                                                                                                \n",
            "                                                                                                  \n",
            " dense_1 (Dense)                (None, 20, 13)       6669        ['bidirectional_1[0][0]']        \n",
            "                                                                                                  \n",
            "==================================================================================================\n",
            "Total params: 3,160,301\n",
            "Trainable params: 3,158,509\n",
            "Non-trainable params: 1,792\n",
            "__________________________________________________________________________________________________\n"
          ]
        }
      ]
    },
    {
      "cell_type": "code",
      "source": [
        "def ctc_lambda_func(args):\n",
        "    y_pred, labels, input_length, label_length = args\n",
        "    y_pred = y_pred[:, 2:, :]\n",
        "    return backend.ctc_batch_cost(labels, y_pred, input_length, label_length)"
      ],
      "metadata": {
        "id": "F3C1g0VEQCou"
      },
      "execution_count": null,
      "outputs": []
    },
    {
      "cell_type": "code",
      "source": [
        "labels = Input(name='gtruth_labels', shape=[5], dtype='float32')\n",
        "input_length = Input(name='input_length', shape=[1], dtype='int64')\n",
        "label_length = Input(name='label_length', shape=[1], dtype='int64')\n",
        "\n",
        "ctc_loss = Lambda(ctc_lambda_func, output_shape=(1,), name='ctc')([y_pred, labels, input_length, label_length])\n",
        "model_ctc = Model(inputs=[input_img, labels, input_length, label_length], outputs=ctc_loss)\n",
        "# Model bao gồm ảnh input_img, nhãn labels, độ dài sequence input_length, độ dài nhãn label_length "
      ],
      "metadata": {
        "id": "v2v3OwqDQJcF"
      },
      "execution_count": null,
      "outputs": []
    },
    {
      "cell_type": "code",
      "source": [
        "num_of_characters = len(characters) + 1 # +1 for ctc pseudo blank\n",
        "num_of_timestamps = 20\n",
        "\n",
        "train_label_len = np.zeros([Y_train.shape[0], 1])\n",
        "train_input_len = np.ones([Y_train.shape[0], 1]) * (num_of_timestamps-2)\n",
        "train_output = np.zeros([Y_train.shape[0]])\n",
        "for i in range (train_label_len.shape[0]):\n",
        "  train_label_len[i] = 5\n",
        "\n",
        "\n",
        "val_label_len = np.zeros([Y_val.shape[0], 1])\n",
        "val_input_len = np.ones([Y_val.shape[0], 1]) * (num_of_timestamps-2)\n",
        "val_output = np.zeros([Y_val.shape[0]])\n",
        "for i in range (val_label_len.shape[0]):\n",
        "  val_label_len[i] = 5"
      ],
      "metadata": {
        "id": "USLRDs5sp983"
      },
      "execution_count": null,
      "outputs": []
    },
    {
      "cell_type": "code",
      "source": [
        "opt = keras.optimizers.Adam(learning_rate = 0.0001)\n",
        "model_ctc.compile(loss={'ctc': lambda y_true, y_pred: y_pred}, optimizer=opt, metrics=['accuracy'])\n",
        "train = model_ctc.fit(x=[X_train, Y_train, train_input_len, train_label_len], y=train_output, validation_data=([X_val, Y_val, val_input_len, val_label_len], val_output), epochs=50, batch_size=32)"
      ],
      "metadata": {
        "id": "0unkrdyMXWP3",
        "colab": {
          "base_uri": "https://localhost:8080/"
        },
        "outputId": "85111f07-73cf-40f8-e977-7a33da321c2c"
      },
      "execution_count": null,
      "outputs": [
        {
          "output_type": "stream",
          "name": "stdout",
          "text": [
            "Epoch 1/50\n",
            "185/185 [==============================] - 52s 168ms/step - loss: 6.6355 - accuracy: 0.0000e+00 - val_loss: 14.3909 - val_accuracy: 0.0000e+00\n",
            "Epoch 2/50\n",
            "185/185 [==============================] - 28s 151ms/step - loss: 2.2612 - accuracy: 0.0044 - val_loss: 16.1841 - val_accuracy: 0.0000e+00\n",
            "Epoch 3/50\n",
            "185/185 [==============================] - 28s 150ms/step - loss: 1.0923 - accuracy: 0.3614 - val_loss: 1.6725 - val_accuracy: 0.1802\n",
            "Epoch 4/50\n",
            "185/185 [==============================] - 28s 150ms/step - loss: 0.5591 - accuracy: 0.7146 - val_loss: 0.4811 - val_accuracy: 0.7724\n",
            "Epoch 5/50\n",
            "185/185 [==============================] - 28s 151ms/step - loss: 0.3588 - accuracy: 0.8097 - val_loss: 0.7844 - val_accuracy: 0.6775\n",
            "Epoch 6/50\n",
            "185/185 [==============================] - 28s 150ms/step - loss: 0.2887 - accuracy: 0.8407 - val_loss: 0.3645 - val_accuracy: 0.8238\n",
            "Epoch 7/50\n",
            "185/185 [==============================] - 29s 155ms/step - loss: 0.2188 - accuracy: 0.8653 - val_loss: 0.3596 - val_accuracy: 0.8449\n",
            "Epoch 8/50\n",
            "185/185 [==============================] - 28s 150ms/step - loss: 0.1928 - accuracy: 0.8727 - val_loss: 0.4895 - val_accuracy: 0.8042\n",
            "Epoch 9/50\n",
            "185/185 [==============================] - 28s 150ms/step - loss: 0.1603 - accuracy: 0.8892 - val_loss: 0.2753 - val_accuracy: 0.8794\n",
            "Epoch 10/50\n",
            "185/185 [==============================] - 28s 150ms/step - loss: 0.1234 - accuracy: 0.9063 - val_loss: 0.3871 - val_accuracy: 0.8476\n",
            "Epoch 11/50\n",
            "185/185 [==============================] - 28s 150ms/step - loss: 0.1250 - accuracy: 0.9075 - val_loss: 0.2869 - val_accuracy: 0.8841\n",
            "Epoch 12/50\n",
            "185/185 [==============================] - 28s 150ms/step - loss: 0.1149 - accuracy: 0.9100 - val_loss: 0.2718 - val_accuracy: 0.8997\n",
            "Epoch 13/50\n",
            "185/185 [==============================] - 28s 150ms/step - loss: 0.0825 - accuracy: 0.9227 - val_loss: 0.4445 - val_accuracy: 0.8306\n",
            "Epoch 14/50\n",
            "185/185 [==============================] - 28s 150ms/step - loss: 0.0845 - accuracy: 0.9251 - val_loss: 0.5885 - val_accuracy: 0.8123\n",
            "Epoch 15/50\n",
            "185/185 [==============================] - 28s 151ms/step - loss: 0.0687 - accuracy: 0.9615 - val_loss: 0.2929 - val_accuracy: 0.9309\n",
            "Epoch 16/50\n",
            "185/185 [==============================] - 28s 150ms/step - loss: 0.0454 - accuracy: 0.9846 - val_loss: 0.4391 - val_accuracy: 0.8875\n",
            "Epoch 17/50\n",
            "185/185 [==============================] - 28s 150ms/step - loss: 0.0338 - accuracy: 0.9873 - val_loss: 0.2254 - val_accuracy: 0.9607\n",
            "Epoch 18/50\n",
            "185/185 [==============================] - 28s 150ms/step - loss: 0.0170 - accuracy: 0.9944 - val_loss: 0.2105 - val_accuracy: 0.9695\n",
            "Epoch 19/50\n",
            "185/185 [==============================] - 28s 150ms/step - loss: 0.0119 - accuracy: 0.9961 - val_loss: 0.1962 - val_accuracy: 0.9790\n",
            "Epoch 20/50\n",
            "185/185 [==============================] - 28s 150ms/step - loss: 0.0087 - accuracy: 0.9971 - val_loss: 0.1983 - val_accuracy: 0.9736\n",
            "Epoch 21/50\n",
            "185/185 [==============================] - 28s 150ms/step - loss: 0.1043 - accuracy: 0.9624 - val_loss: 1.4830 - val_accuracy: 0.5955\n",
            "Epoch 22/50\n",
            "185/185 [==============================] - 28s 150ms/step - loss: 0.1136 - accuracy: 0.9576 - val_loss: 0.6740 - val_accuracy: 0.8042\n",
            "Epoch 23/50\n",
            "185/185 [==============================] - 28s 150ms/step - loss: 0.0295 - accuracy: 0.9903 - val_loss: 0.4699 - val_accuracy: 0.8808\n",
            "Epoch 24/50\n",
            "185/185 [==============================] - 28s 150ms/step - loss: 0.0476 - accuracy: 0.9836 - val_loss: 0.2670 - val_accuracy: 0.9322\n",
            "Epoch 25/50\n",
            "185/185 [==============================] - 28s 150ms/step - loss: 0.0244 - accuracy: 0.9898 - val_loss: 0.2426 - val_accuracy: 0.9472\n",
            "Epoch 26/50\n",
            " 89/185 [=============>................] - ETA: 12s - loss: 0.0076 - accuracy: 0.9972"
          ]
        }
      ]
    },
    {
      "cell_type": "code",
      "source": [
        "accuracy = train.history['accuracy']\n",
        "val_accuracy = train.history['val_accuracy']\n",
        "epochs = range(len(accuracy))\n",
        "plt.plot(epochs, accuracy, 'b', label='Training Accuracy')\n",
        "plt.plot(epochs, val_accuracy, 'r', label='Validation Accuracy')\n",
        "plt.title('Model Accuracy')\n",
        "plt.legend()\n",
        "plt.show()"
      ],
      "metadata": {
        "colab": {
          "base_uri": "https://localhost:8080/",
          "height": 281
        },
        "id": "9blzsaZksXTq",
        "outputId": "5f30dc39-6458-4f1d-916f-a96a25994cdd"
      },
      "execution_count": null,
      "outputs": [
        {
          "output_type": "display_data",
          "data": {
            "image/png": "[encoded data removed]",
            "text/plain": [
              "<Figure size 432x288 with 1 Axes>"
            ]
          },
          "metadata": {
            "needs_background": "light"
          }
        }
      ]
    },
    {
      "cell_type": "code",
      "source": [
        "train_loss = train.history['loss']\n",
        "val_loss = train.history['val_loss']\n",
        "epochs = range(len(train_loss))\n",
        "plt.plot(epochs, train_loss, 'b', label='Training Loss')\n",
        "plt.plot(epochs, val_loss, 'r', label='Validation Loss')\n",
        "plt.title('Model Loss')\n",
        "plt.legend()\n",
        "plt.show()"
      ],
      "metadata": {
        "colab": {
          "base_uri": "https://localhost:8080/",
          "height": 281
        },
        "id": "U0klKMWPtWfq",
        "outputId": "01f02a2b-990b-441d-e4cf-ee13c566c7f7"
      },
      "execution_count": null,
      "outputs": [
        {
          "output_type": "display_data",
          "data": {
            "image/png": "[encoded data removed]",
            "text/plain": [
              "<Figure size 432x288 with 1 Axes>"
            ]
          },
          "metadata": {
            "needs_background": "light"
          }
        }
      ]
    },
    {
      "cell_type": "code",
      "source": [
        "for i in range(0, 389):\n",
        "  img = X_test[i]\n",
        "  pred = model.predict(img.reshape(1, 40, 100, 1))\n",
        "  decoded = backend.get_value(backend.ctc_decode(pred, input_length=np.ones(pred.shape[0])*pred.shape[1], greedy=True)[0][0])\n",
        "  label = num_to_label(decoded[0])\n",
        "  img = img * 255\n",
        "  label = label.replace(\"n\", \"\")\n",
        "  true_label = num_to_label(Y_test[i])\n",
        "  true_label = true_label.replace(\"n\", \"\")\n",
        "  if label != true_label:\n",
        "    cv2_imshow(img)\n",
        "    print('Predicted: ', label, ' \\nTrue Label:', true_label)"
      ],
      "metadata": {
        "id": "f9xCOsDgX7G9",
        "colab": {
          "base_uri": "https://localhost:8080/",
          "height": 466
        },
        "outputId": "9d4c80db-5ade-4e5d-fcdb-4940ae518518"
      },
      "execution_count": null,
      "outputs": [
        {
          "output_type": "display_data",
          "data": {
            "image/png": "[encoded data removed]",
            "text/plain": [
              "<PIL.Image.Image image mode=L size=100x40 at 0x7F3607BD1A50>"
            ]
          },
          "metadata": {}
        },
        {
          "output_type": "stream",
          "name": "stdout",
          "text": [
            "Predicted:  00.5  \n",
            "True Label: 0.5\n"
          ]
        },
        {
          "output_type": "display_data",
          "data": {
            "image/png": "[encoded data removed]",
            "text/plain": [
              "<PIL.Image.Image image mode=L size=100x40 at 0x7F360BFDEED0>"
            ]
          },
          "metadata": {}
        },
        {
          "output_type": "stream",
          "name": "stdout",
          "text": [
            "Predicted:  010  \n",
            "True Label: 000\n"
          ]
        },
        {
          "output_type": "display_data",
          "data": {
            "image/png": "[encoded data removed]",
            "text/plain": [
              "<PIL.Image.Image image mode=L size=100x40 at 0x7F360D891F10>"
            ]
          },
          "metadata": {}
        },
        {
          "output_type": "stream",
          "name": "stdout",
          "text": [
            "Predicted:  010.0  \n",
            "True Label: 10.0\n"
          ]
        },
        {
          "output_type": "display_data",
          "data": {
            "image/png": "[encoded data removed]",
            "text/plain": [
              "<PIL.Image.Image image mode=L size=100x40 at 0x7F3608D55910>"
            ]
          },
          "metadata": {}
        },
        {
          "output_type": "stream",
          "name": "stdout",
          "text": [
            "Predicted:  010.0  \n",
            "True Label: 10.0\n"
          ]
        },
        {
          "output_type": "display_data",
          "data": {
            "image/png": "[encoded data removed]",
            "text/plain": [
              "<PIL.Image.Image image mode=L size=100x40 at 0x7F3608F5A590>"
            ]
          },
          "metadata": {}
        },
        {
          "output_type": "stream",
          "name": "stdout",
          "text": [
            "Predicted:  01.5  \n",
            "True Label: 1.5\n"
          ]
        },
        {
          "output_type": "display_data",
          "data": {
            "image/png": "[encoded data removed]",
            "text/plain": [
              "<PIL.Image.Image image mode=L size=100x40 at 0x7F3609F7A0D0>"
            ]
          },
          "metadata": {}
        },
        {
          "output_type": "stream",
          "name": "stdout",
          "text": [
            "Predicted:  000.0  \n",
            "True Label: 000\n"
          ]
        }
      ]
    },
    {
      "cell_type": "code",
      "source": [
        "model_CRNNCTC = model.to_json()\n",
        "with open(\"/content/gdrive/MyDrive/DatasetDoAn2/Model/model_CRNNCTC_final.json\", \"w\") as json_file:\n",
        "    json_file.write(model_CRNNCTC)\n",
        "model.save_weights(\"/content/gdrive/MyDrive/DatasetDoAn2/Model/model_CRNNCTC_final.h5\")"
      ],
      "metadata": {
        "id": "MFJLl96keSNp"
      },
      "execution_count": null,
      "outputs": []
    },
    {
      "cell_type": "code",
      "source": [
        "from keras.models import model_from_json, Sequential\n",
        "with open('/content/gdrive/MyDrive/DatasetDoAn2/Model/model_CRNNCTC_final.json', 'r') as json_file:\n",
        "  model_json = json_file.read()\n",
        "model = model_from_json(model_json)\n",
        "model.load_weights('/content/gdrive/MyDrive/DatasetDoAn2/Model/model_CRNNCTC_final.h5')"
      ],
      "metadata": {
        "id": "D4atXyv4th-C"
      },
      "execution_count": null,
      "outputs": []
    },
    {
      "cell_type": "code",
      "source": [
        "img = cv2.imread('/content/gdrive/MyDrive/DatasetDoAn2/Digit/5.png', cv2.IMREAD_GRAYSCALE)\n",
        "img = cv2.resize(img, (100, 40))\n",
        "tensor = img / 255.0\n",
        "pred = model.predict(tensor.reshape(1, 40, 100, 1))\n",
        "decoded = backend.get_value(backend.ctc_decode(pred, input_length=np.ones(pred.shape[0])*pred.shape[1], greedy=True)[0][0])\n",
        "label = num_to_label(decoded[0])\n",
        "cv2_imshow(img)\n",
        "print(label)"
      ],
      "metadata": {
        "id": "Ve03rZl5uARZ",
        "colab": {
          "base_uri": "https://localhost:8080/",
          "height": 74
        },
        "outputId": "c3a9cd32-629d-464a-9ad3-819afbb277a5"
      },
      "execution_count": null,
      "outputs": [
        {
          "output_type": "display_data",
          "data": {
            "image/png": "[encoded data removed]",
            "text/plain": [
              "<PIL.Image.Image image mode=L size=100x40 at 0x7F3609F319D0>"
            ]
          },
          "metadata": {}
        },
        {
          "output_type": "stream",
          "name": "stdout",
          "text": [
            "n2.0n\n"
          ]
        }
      ]
    }
  ]
}